{
 "cells": [
  {
   "cell_type": "markdown",
   "metadata": {},
   "source": [
    "# Mimicvat visual data\n",
    "This notebook is for digging into the mimicvat data and visualizing interesting patterns. My plan is to eventually display this data on the website."
   ]
  },
  {
   "cell_type": "markdown",
   "metadata": {},
   "source": [
    "I set up my document here by importing typical libraries and connecting to the database file."
   ]
  },
  {
   "cell_type": "code",
   "execution_count": 1,
   "metadata": {
    "scrolled": false
   },
   "outputs": [
    {
     "data": {
      "text/html": [
       "<div>\n",
       "<style scoped>\n",
       "    .dataframe tbody tr th:only-of-type {\n",
       "        vertical-align: middle;\n",
       "    }\n",
       "\n",
       "    .dataframe tbody tr th {\n",
       "        vertical-align: top;\n",
       "    }\n",
       "\n",
       "    .dataframe thead th {\n",
       "        text-align: right;\n",
       "    }\n",
       "</style>\n",
       "<table border=\"1\" class=\"dataframe\">\n",
       "  <thead>\n",
       "    <tr style=\"text-align: right;\">\n",
       "      <th></th>\n",
       "      <th>ID</th>\n",
       "      <th>NAME</th>\n",
       "      <th>CMC</th>\n",
       "      <th>MANACOST</th>\n",
       "      <th>POWER</th>\n",
       "      <th>TOUGHNESS</th>\n",
       "      <th>COLOR</th>\n",
       "      <th>CARDSET</th>\n",
       "      <th>TYPE</th>\n",
       "      <th>PICURL</th>\n",
       "      <th>FOIL</th>\n",
       "      <th>NONFOIL</th>\n",
       "      <th>ONLINEONLY</th>\n",
       "      <th>RARITY</th>\n",
       "    </tr>\n",
       "  </thead>\n",
       "  <tbody>\n",
       "    <tr>\n",
       "      <td>0</td>\n",
       "      <td>2ae1bb79-a931-4d2e-9cc9-a06862dc5cde</td>\n",
       "      <td>God-Eternal Bontu</td>\n",
       "      <td>5.0</td>\n",
       "      <td>{3}{B}{B}</td>\n",
       "      <td>5</td>\n",
       "      <td>6</td>\n",
       "      <td>['B']</td>\n",
       "      <td>ps19</td>\n",
       "      <td>Legendary Creature — Zombie God</td>\n",
       "      <td>https://img.scryfall.com/cards/normal/front/2/...</td>\n",
       "      <td>True</td>\n",
       "      <td>False</td>\n",
       "      <td>False</td>\n",
       "      <td>mythic</td>\n",
       "    </tr>\n",
       "    <tr>\n",
       "      <td>1</td>\n",
       "      <td>4889a668-0f01-4447-ad2e-91b329258f22</td>\n",
       "      <td>God-Eternal Kefnet</td>\n",
       "      <td>4.0</td>\n",
       "      <td>{2}{U}{U}</td>\n",
       "      <td>4</td>\n",
       "      <td>5</td>\n",
       "      <td>['U']</td>\n",
       "      <td>ps19</td>\n",
       "      <td>Legendary Creature — Zombie God</td>\n",
       "      <td>https://img.scryfall.com/cards/normal/front/4/...</td>\n",
       "      <td>True</td>\n",
       "      <td>False</td>\n",
       "      <td>False</td>\n",
       "      <td>mythic</td>\n",
       "    </tr>\n",
       "    <tr>\n",
       "      <td>2</td>\n",
       "      <td>5b13ba5a-f4b0-420a-9e4f-a65e57721fa4</td>\n",
       "      <td>God-Eternal Oketra</td>\n",
       "      <td>5.0</td>\n",
       "      <td>{3}{W}{W}</td>\n",
       "      <td>3</td>\n",
       "      <td>6</td>\n",
       "      <td>['W']</td>\n",
       "      <td>ps19</td>\n",
       "      <td>Legendary Creature — Zombie God</td>\n",
       "      <td>https://img.scryfall.com/cards/normal/front/5/...</td>\n",
       "      <td>True</td>\n",
       "      <td>False</td>\n",
       "      <td>False</td>\n",
       "      <td>mythic</td>\n",
       "    </tr>\n",
       "    <tr>\n",
       "      <td>3</td>\n",
       "      <td>37bc0128-a8d0-477c-abcf-2bdc9e38b872</td>\n",
       "      <td>God-Eternal Rhonas</td>\n",
       "      <td>5.0</td>\n",
       "      <td>{3}{G}{G}</td>\n",
       "      <td>5</td>\n",
       "      <td>5</td>\n",
       "      <td>['G']</td>\n",
       "      <td>ps19</td>\n",
       "      <td>Legendary Creature — Zombie God</td>\n",
       "      <td>https://img.scryfall.com/cards/normal/front/3/...</td>\n",
       "      <td>True</td>\n",
       "      <td>False</td>\n",
       "      <td>False</td>\n",
       "      <td>mythic</td>\n",
       "    </tr>\n",
       "    <tr>\n",
       "      <td>4</td>\n",
       "      <td>2c23b39b-a4d6-4f10-8ced-fa4b1ed2cf74</td>\n",
       "      <td>Nicol Bolas, Dragon-God</td>\n",
       "      <td>5.0</td>\n",
       "      <td>{U}{B}{B}{B}{R}</td>\n",
       "      <td>None</td>\n",
       "      <td>None</td>\n",
       "      <td>['B', 'R', 'U']</td>\n",
       "      <td>ps19</td>\n",
       "      <td>Legendary Planeswalker — Bolas</td>\n",
       "      <td>https://img.scryfall.com/cards/normal/front/2/...</td>\n",
       "      <td>True</td>\n",
       "      <td>False</td>\n",
       "      <td>False</td>\n",
       "      <td>mythic</td>\n",
       "    </tr>\n",
       "  </tbody>\n",
       "</table>\n",
       "</div>"
      ],
      "text/plain": [
       "                                     ID                     NAME  CMC  \\\n",
       "0  2ae1bb79-a931-4d2e-9cc9-a06862dc5cde        God-Eternal Bontu  5.0   \n",
       "1  4889a668-0f01-4447-ad2e-91b329258f22       God-Eternal Kefnet  4.0   \n",
       "2  5b13ba5a-f4b0-420a-9e4f-a65e57721fa4       God-Eternal Oketra  5.0   \n",
       "3  37bc0128-a8d0-477c-abcf-2bdc9e38b872       God-Eternal Rhonas  5.0   \n",
       "4  2c23b39b-a4d6-4f10-8ced-fa4b1ed2cf74  Nicol Bolas, Dragon-God  5.0   \n",
       "\n",
       "          MANACOST POWER TOUGHNESS            COLOR CARDSET  \\\n",
       "0        {3}{B}{B}     5         6            ['B']    ps19   \n",
       "1        {2}{U}{U}     4         5            ['U']    ps19   \n",
       "2        {3}{W}{W}     3         6            ['W']    ps19   \n",
       "3        {3}{G}{G}     5         5            ['G']    ps19   \n",
       "4  {U}{B}{B}{B}{R}  None      None  ['B', 'R', 'U']    ps19   \n",
       "\n",
       "                              TYPE  \\\n",
       "0  Legendary Creature — Zombie God   \n",
       "1  Legendary Creature — Zombie God   \n",
       "2  Legendary Creature — Zombie God   \n",
       "3  Legendary Creature — Zombie God   \n",
       "4   Legendary Planeswalker — Bolas   \n",
       "\n",
       "                                              PICURL  FOIL NONFOIL ONLINEONLY  \\\n",
       "0  https://img.scryfall.com/cards/normal/front/2/...  True   False      False   \n",
       "1  https://img.scryfall.com/cards/normal/front/4/...  True   False      False   \n",
       "2  https://img.scryfall.com/cards/normal/front/5/...  True   False      False   \n",
       "3  https://img.scryfall.com/cards/normal/front/3/...  True   False      False   \n",
       "4  https://img.scryfall.com/cards/normal/front/2/...  True   False      False   \n",
       "\n",
       "   RARITY  \n",
       "0  mythic  \n",
       "1  mythic  \n",
       "2  mythic  \n",
       "3  mythic  \n",
       "4  mythic  "
      ]
     },
     "execution_count": 1,
     "metadata": {},
     "output_type": "execute_result"
    }
   ],
   "source": [
    "import pandas as pd\n",
    "import sqlite3\n",
    "\n",
    "conn = sqlite3.connect(\"CARDINFO.db\")\n",
    "query = \"select * from CARDS\"\n",
    "df = pd.read_sql_query(query,conn)\n",
    "df.head()"
   ]
  },
  {
   "cell_type": "code",
   "execution_count": 2,
   "metadata": {
    "scrolled": true
   },
   "outputs": [
    {
     "data": {
      "text/plain": [
       "43683"
      ]
     },
     "execution_count": 2,
     "metadata": {},
     "output_type": "execute_result"
    }
   ],
   "source": [
    "len(df)"
   ]
  },
  {
   "cell_type": "markdown",
   "metadata": {},
   "source": [
    "This is the dataframe I'm trying to set up on a scatter plot, but I have incorrect values in the POWER list due to various non-number symbols and missing values."
   ]
  },
  {
   "cell_type": "code",
   "execution_count": 3,
   "metadata": {},
   "outputs": [
    {
     "data": {
      "text/html": [
       "<div>\n",
       "<style scoped>\n",
       "    .dataframe tbody tr th:only-of-type {\n",
       "        vertical-align: middle;\n",
       "    }\n",
       "\n",
       "    .dataframe tbody tr th {\n",
       "        vertical-align: top;\n",
       "    }\n",
       "\n",
       "    .dataframe thead th {\n",
       "        text-align: right;\n",
       "    }\n",
       "</style>\n",
       "<table border=\"1\" class=\"dataframe\">\n",
       "  <thead>\n",
       "    <tr style=\"text-align: right;\">\n",
       "      <th></th>\n",
       "      <th>POWER</th>\n",
       "      <th>CMC</th>\n",
       "      <th>COLOR</th>\n",
       "    </tr>\n",
       "  </thead>\n",
       "  <tbody>\n",
       "    <tr>\n",
       "      <td>0</td>\n",
       "      <td>5</td>\n",
       "      <td>5.0</td>\n",
       "      <td>['B']</td>\n",
       "    </tr>\n",
       "    <tr>\n",
       "      <td>1</td>\n",
       "      <td>4</td>\n",
       "      <td>4.0</td>\n",
       "      <td>['U']</td>\n",
       "    </tr>\n",
       "    <tr>\n",
       "      <td>2</td>\n",
       "      <td>3</td>\n",
       "      <td>5.0</td>\n",
       "      <td>['W']</td>\n",
       "    </tr>\n",
       "    <tr>\n",
       "      <td>3</td>\n",
       "      <td>5</td>\n",
       "      <td>5.0</td>\n",
       "      <td>['G']</td>\n",
       "    </tr>\n",
       "    <tr>\n",
       "      <td>4</td>\n",
       "      <td>None</td>\n",
       "      <td>5.0</td>\n",
       "      <td>['B', 'R', 'U']</td>\n",
       "    </tr>\n",
       "  </tbody>\n",
       "</table>\n",
       "</div>"
      ],
      "text/plain": [
       "  POWER  CMC            COLOR\n",
       "0     5  5.0            ['B']\n",
       "1     4  4.0            ['U']\n",
       "2     3  5.0            ['W']\n",
       "3     5  5.0            ['G']\n",
       "4  None  5.0  ['B', 'R', 'U']"
      ]
     },
     "execution_count": 3,
     "metadata": {},
     "output_type": "execute_result"
    }
   ],
   "source": [
    "power = df[['POWER','CMC','COLOR']]\n",
    "power.head()"
   ]
  },
  {
   "cell_type": "code",
   "execution_count": 4,
   "metadata": {},
   "outputs": [
    {
     "data": {
      "text/plain": [
       "2      6286\n",
       "1      4872\n",
       "3      3338\n",
       "4      2236\n",
       "5      1420\n",
       "0      1190\n",
       "6       834\n",
       "*       379\n",
       "7       302\n",
       "8       140\n",
       "9        58\n",
       "10       56\n",
       "12       19\n",
       "11       14\n",
       "1+*      11\n",
       "15        8\n",
       "2+*       8\n",
       "13        6\n",
       "+1        4\n",
       "20        4\n",
       "-1        3\n",
       "3.5       3\n",
       "2.5       3\n",
       "+2        3\n",
       "+3        3\n",
       "+0        1\n",
       "*²        1\n",
       ".5        1\n",
       "+4        1\n",
       "∞         1\n",
       "16        1\n",
       "1.5       1\n",
       "?         1\n",
       "99        1\n",
       "Name: POWER, dtype: int64"
      ]
     },
     "execution_count": 4,
     "metadata": {},
     "output_type": "execute_result"
    }
   ],
   "source": [
    "#power = power.dropna()\n",
    "power.POWER.value_counts()"
   ]
  },
  {
   "cell_type": "markdown",
   "metadata": {},
   "source": [
    "# Problem:\n",
    "my dataframe 'power' contains non number values in the POWER column. This is because of various unglued cards, and anything with */* or x values.\n",
    "To plot this data, I need to remove those values.\n",
    "\n",
    "I have na set to True to remove them\n",
    "\n"
   ]
  },
  {
   "cell_type": "markdown",
   "metadata": {},
   "source": [
    "'[^0-9.-]' means values that are NOT in 0-9 of a string, So a False rating means it IS a number and  True rating means it is NOT, and should be removed.\n",
    "\n",
    "Non_num is a list of boolean values for POWER, the values with True should be removed."
   ]
  },
  {
   "cell_type": "code",
   "execution_count": 5,
   "metadata": {
    "scrolled": false
   },
   "outputs": [
    {
     "data": {
      "text/plain": [
       "0    False\n",
       "1    False\n",
       "2    False\n",
       "3    False\n",
       "4     True\n",
       "Name: POWER, dtype: bool"
      ]
     },
     "execution_count": 5,
     "metadata": {},
     "output_type": "execute_result"
    }
   ],
   "source": [
    "non_num = power.POWER.str.contains('[^0-9.-]', na=True)\n",
    "\n",
    "non_num.head()"
   ]
  },
  {
   "cell_type": "code",
   "execution_count": null,
   "metadata": {},
   "outputs": [],
   "source": []
  },
  {
   "cell_type": "code",
   "execution_count": null,
   "metadata": {},
   "outputs": [],
   "source": []
  },
  {
   "cell_type": "code",
   "execution_count": null,
   "metadata": {},
   "outputs": [],
   "source": []
  },
  {
   "cell_type": "code",
   "execution_count": null,
   "metadata": {},
   "outputs": [],
   "source": []
  },
  {
   "cell_type": "markdown",
   "metadata": {},
   "source": [
    "## dropna drops lines with a missing value in POWER column\n",
    "\n",
    "this doesn't do anything"
   ]
  },
  {
   "cell_type": "code",
   "execution_count": 6,
   "metadata": {},
   "outputs": [
    {
     "data": {
      "text/html": [
       "<div>\n",
       "<style scoped>\n",
       "    .dataframe tbody tr th:only-of-type {\n",
       "        vertical-align: middle;\n",
       "    }\n",
       "\n",
       "    .dataframe tbody tr th {\n",
       "        vertical-align: top;\n",
       "    }\n",
       "\n",
       "    .dataframe thead th {\n",
       "        text-align: right;\n",
       "    }\n",
       "</style>\n",
       "<table border=\"1\" class=\"dataframe\">\n",
       "  <thead>\n",
       "    <tr style=\"text-align: right;\">\n",
       "      <th></th>\n",
       "      <th>POWER</th>\n",
       "      <th>CMC</th>\n",
       "      <th>COLOR</th>\n",
       "    </tr>\n",
       "  </thead>\n",
       "  <tbody>\n",
       "    <tr>\n",
       "      <td>0</td>\n",
       "      <td>5</td>\n",
       "      <td>5.0</td>\n",
       "      <td>['B']</td>\n",
       "    </tr>\n",
       "    <tr>\n",
       "      <td>1</td>\n",
       "      <td>4</td>\n",
       "      <td>4.0</td>\n",
       "      <td>['U']</td>\n",
       "    </tr>\n",
       "    <tr>\n",
       "      <td>2</td>\n",
       "      <td>3</td>\n",
       "      <td>5.0</td>\n",
       "      <td>['W']</td>\n",
       "    </tr>\n",
       "    <tr>\n",
       "      <td>3</td>\n",
       "      <td>5</td>\n",
       "      <td>5.0</td>\n",
       "      <td>['G']</td>\n",
       "    </tr>\n",
       "    <tr>\n",
       "      <td>5</td>\n",
       "      <td>2</td>\n",
       "      <td>0.0</td>\n",
       "      <td>['W']</td>\n",
       "    </tr>\n",
       "  </tbody>\n",
       "</table>\n",
       "</div>"
      ],
      "text/plain": [
       "  POWER  CMC  COLOR\n",
       "0     5  5.0  ['B']\n",
       "1     4  4.0  ['U']\n",
       "2     3  5.0  ['W']\n",
       "3     5  5.0  ['G']\n",
       "5     2  0.0  ['W']"
      ]
     },
     "execution_count": 6,
     "metadata": {},
     "output_type": "execute_result"
    }
   ],
   "source": [
    "power = power.dropna(subset=['POWER'],how='all')\n",
    "power.head()"
   ]
  },
  {
   "cell_type": "markdown",
   "metadata": {},
   "source": [
    "## non numbers\n",
    "here we can see a complete set of all possible power values in mtg currently. Note the non-number values. Also note that because of these values I can't set the dtype to number, which is whats preventing me from plotting the data."
   ]
  },
  {
   "cell_type": "code",
   "execution_count": 7,
   "metadata": {},
   "outputs": [
    {
     "data": {
      "text/plain": [
       "{'*', '*²', '+0', '+1', '+2', '+3', '+4', '1+*', '2+*', '?', '∞'}"
      ]
     },
     "execution_count": 7,
     "metadata": {},
     "output_type": "execute_result"
    }
   ],
   "source": [
    "set(power.POWER[non_num])"
   ]
  },
  {
   "cell_type": "markdown",
   "metadata": {},
   "source": [
    "# Solution:\n",
    "I remove the non_num values here using the inverse of the boolean non_num. I also convert the data type."
   ]
  },
  {
   "cell_type": "code",
   "execution_count": 8,
   "metadata": {},
   "outputs": [],
   "source": [
    "power = power.loc[~non_num]\n",
    "power.POWER = power.POWER.apply(pd.to_numeric)"
   ]
  },
  {
   "cell_type": "code",
   "execution_count": 9,
   "metadata": {},
   "outputs": [
    {
     "data": {
      "text/html": [
       "<div>\n",
       "<style scoped>\n",
       "    .dataframe tbody tr th:only-of-type {\n",
       "        vertical-align: middle;\n",
       "    }\n",
       "\n",
       "    .dataframe tbody tr th {\n",
       "        vertical-align: top;\n",
       "    }\n",
       "\n",
       "    .dataframe thead th {\n",
       "        text-align: right;\n",
       "    }\n",
       "</style>\n",
       "<table border=\"1\" class=\"dataframe\">\n",
       "  <thead>\n",
       "    <tr style=\"text-align: right;\">\n",
       "      <th></th>\n",
       "      <th>POWER</th>\n",
       "      <th>CMC</th>\n",
       "      <th>COLOR</th>\n",
       "    </tr>\n",
       "  </thead>\n",
       "  <tbody>\n",
       "    <tr>\n",
       "      <td>0</td>\n",
       "      <td>5.0</td>\n",
       "      <td>5.0</td>\n",
       "      <td>['B']</td>\n",
       "    </tr>\n",
       "    <tr>\n",
       "      <td>1</td>\n",
       "      <td>4.0</td>\n",
       "      <td>4.0</td>\n",
       "      <td>['U']</td>\n",
       "    </tr>\n",
       "    <tr>\n",
       "      <td>2</td>\n",
       "      <td>3.0</td>\n",
       "      <td>5.0</td>\n",
       "      <td>['W']</td>\n",
       "    </tr>\n",
       "    <tr>\n",
       "      <td>3</td>\n",
       "      <td>5.0</td>\n",
       "      <td>5.0</td>\n",
       "      <td>['G']</td>\n",
       "    </tr>\n",
       "    <tr>\n",
       "      <td>5</td>\n",
       "      <td>2.0</td>\n",
       "      <td>0.0</td>\n",
       "      <td>['W']</td>\n",
       "    </tr>\n",
       "  </tbody>\n",
       "</table>\n",
       "</div>"
      ],
      "text/plain": [
       "   POWER  CMC  COLOR\n",
       "0    5.0  5.0  ['B']\n",
       "1    4.0  4.0  ['U']\n",
       "2    3.0  5.0  ['W']\n",
       "3    5.0  5.0  ['G']\n",
       "5    2.0  0.0  ['W']"
      ]
     },
     "execution_count": 9,
     "metadata": {},
     "output_type": "execute_result"
    }
   ],
   "source": [
    "power.head()"
   ]
  },
  {
   "cell_type": "code",
   "execution_count": 10,
   "metadata": {},
   "outputs": [
    {
     "data": {
      "text/plain": [
       "POWER    float64\n",
       "CMC      float64\n",
       "COLOR     object\n",
       "dtype: object"
      ]
     },
     "execution_count": 10,
     "metadata": {},
     "output_type": "execute_result"
    }
   ],
   "source": [
    "power.dtypes"
   ]
  },
  {
   "cell_type": "code",
   "execution_count": 11,
   "metadata": {
    "scrolled": true
   },
   "outputs": [
    {
     "data": {
      "text/plain": [
       " 2.0     6286\n",
       " 1.0     4872\n",
       " 3.0     3338\n",
       " 4.0     2236\n",
       " 5.0     1420\n",
       " 0.0     1190\n",
       " 6.0      834\n",
       " 7.0      302\n",
       " 8.0      140\n",
       " 9.0       58\n",
       " 10.0      56\n",
       " 12.0      19\n",
       " 11.0      14\n",
       " 15.0       8\n",
       " 13.0       6\n",
       " 20.0       4\n",
       "-1.0        3\n",
       " 3.5        3\n",
       " 2.5        3\n",
       " 16.0       1\n",
       " 99.0       1\n",
       " 0.5        1\n",
       " 1.5        1\n",
       "Name: POWER, dtype: int64"
      ]
     },
     "execution_count": 11,
     "metadata": {},
     "output_type": "execute_result"
    }
   ],
   "source": [
    "power.POWER.value_counts()"
   ]
  },
  {
   "cell_type": "code",
   "execution_count": null,
   "metadata": {},
   "outputs": [],
   "source": []
  },
  {
   "cell_type": "markdown",
   "metadata": {},
   "source": [
    "## plotting power count"
   ]
  },
  {
   "cell_type": "code",
   "execution_count": 12,
   "metadata": {
    "scrolled": true
   },
   "outputs": [
    {
     "data": {
      "text/plain": [
       "<matplotlib.axes._subplots.AxesSubplot at 0x26929fe0388>"
      ]
     },
     "execution_count": 12,
     "metadata": {},
     "output_type": "execute_result"
    }
   ],
   "source": [
    "power.POWER.value_counts().sort_index().plot(kind='bar',x='index')"
   ]
  },
  {
   "cell_type": "code",
   "execution_count": 13,
   "metadata": {},
   "outputs": [
    {
     "data": {
      "text/plain": [
       "<matplotlib.axes._subplots.AxesSubplot at 0x2692b9311c8>"
      ]
     },
     "execution_count": 13,
     "metadata": {},
     "output_type": "execute_result"
    },
    {
     "data": {
      "image/png": "[encoded data removed]",
      "text/plain": [
       "<Figure size 1440x720 with 1 Axes>"
      ]
     },
     "metadata": {
      "needs_background": "light"
     },
     "output_type": "display_data"
    }
   ],
   "source": [
    "power.plot.scatter('POWER','CMC', figsize = (20,10), xlim = (-2,22), s=power.groupby(['POWER', 'CMC']).size()*.3)"
   ]
  },
  {
   "cell_type": "markdown",
   "metadata": {},
   "source": [
    "# conclusion\n",
    "Here is my plot of all creatures in mtg right now, cmc value vs power. Note the obvious outlier here is a 99/99 creature for 15cmc from an unglued set."
   ]
  },
  {
   "cell_type": "markdown",
   "metadata": {},
   "source": [
    "this stuff is probably not needed because I can just use the numpy Object data type for my color comparisons. They can be deleted."
   ]
  },
  {
   "cell_type": "code",
   "execution_count": 14,
   "metadata": {},
   "outputs": [],
   "source": [
    "power.COLOR = power.COLOR.astype(str)"
   ]
  },
  {
   "cell_type": "code",
   "execution_count": 15,
   "metadata": {},
   "outputs": [
    {
     "data": {
      "text/plain": [
       "POWER    float64\n",
       "CMC      float64\n",
       "COLOR     object\n",
       "dtype: object"
      ]
     },
     "execution_count": 15,
     "metadata": {},
     "output_type": "execute_result"
    }
   ],
   "source": [
    "power.dtypes"
   ]
  },
  {
   "cell_type": "markdown",
   "metadata": {},
   "source": [
    "## colors\n",
    "I can break the cards down into colors with this. It took a couple minutes to figure out how to display the single quote bracketed thing as a string but there it is."
   ]
  },
  {
   "cell_type": "code",
   "execution_count": null,
   "metadata": {},
   "outputs": [],
   "source": []
  },
  {
   "cell_type": "code",
   "execution_count": null,
   "metadata": {},
   "outputs": [],
   "source": []
  },
  {
   "cell_type": "markdown",
   "metadata": {},
   "source": [
    "make my power changes to the whole original df"
   ]
  },
  {
   "cell_type": "code",
   "execution_count": 16,
   "metadata": {},
   "outputs": [],
   "source": [
    "non_num_df = df.POWER.str.contains('[^0-9.-]', na=True)\n",
    "df = df.loc[~non_num_df]\n",
    "df.POWER = df.POWER.apply(pd.to_numeric)"
   ]
  },
  {
   "cell_type": "code",
   "execution_count": 17,
   "metadata": {},
   "outputs": [],
   "source": [
    "black = df[df.COLOR == \"['B']\"]"
   ]
  },
  {
   "cell_type": "code",
   "execution_count": 18,
   "metadata": {},
   "outputs": [],
   "source": [
    "green = df[df.COLOR == \"['G']\"]\n",
    "red = df[df.COLOR == \"['R']\"]\n",
    "blue = df[df.COLOR == \"['U']\"]\n",
    "white = df[df.COLOR == \"['W']\"]"
   ]
  },
  {
   "cell_type": "code",
   "execution_count": 33,
   "metadata": {
    "scrolled": false
   },
   "outputs": [
    {
     "data": {
      "text/plain": [
       "<matplotlib.axes._subplots.AxesSubplot at 0x26946e9eec8>"
      ]
     },
     "execution_count": 33,
     "metadata": {},
     "output_type": "execute_result"
    },
    {
     "data": {
      "image/png": "[encoded data removed]",
      "text/plain": [
       "<Figure size 432x288 with 1 Axes>"
      ]
     },
     "metadata": {
      "needs_background": "light"
     },
     "output_type": "display_data"
    },
    {
     "data": {
      "image/png": "[encoded data removed]",
      "text/plain": [
       "<Figure size 432x288 with 1 Axes>"
      ]
     },
     "metadata": {
      "needs_background": "light"
     },
     "output_type": "display_data"
    },
    {
     "data": {
      "image/png": "[encoded data removed]",
      "text/plain": [
       "<Figure size 432x288 with 1 Axes>"
      ]
     },
     "metadata": {
      "needs_background": "light"
     },
     "output_type": "display_data"
    },
    {
     "data": {
      "image/png": "[encoded data removed]",
      "text/plain": [
       "<Figure size 432x288 with 1 Axes>"
      ]
     },
     "metadata": {
      "needs_background": "light"
     },
     "output_type": "display_data"
    },
    {
     "data": {
      "image/png": "[encoded data removed]",
      "text/plain": [
       "<Figure size 432x288 with 1 Axes>"
      ]
     },
     "metadata": {
      "needs_background": "light"
     },
     "output_type": "display_data"
    }
   ],
   "source": [
    "green.plot.scatter('POWER','CMC',xlim = (-2,22),color='g',s=green.groupby(['POWER', 'CMC']).size()*.3)\n",
    "black.plot.scatter('POWER','CMC',xlim = (-2,22),color='black',s=black.groupby(['POWER', 'CMC']).size()*.3)\n",
    "red.plot.scatter('POWER','CMC',xlim = (-2,22),color='red',s=red.groupby(['POWER', 'CMC']).size()*.3)\n",
    "blue.plot.scatter('POWER','CMC',xlim = (-2,22),color='blue',s=blue.groupby(['POWER', 'CMC']).size()*.3)\n",
    "white.plot.scatter('POWER','CMC',xlim = (-2,22),color='grey',s=white.groupby(['POWER', 'CMC']).size()*.3)"
   ]
  },
  {
   "cell_type": "markdown",
   "metadata": {},
   "source": [
    "# next steps:\n",
    "group by both power and cmc, and get the counts. set the count to the diameter of the circle dot."
   ]
  },
  {
   "cell_type": "code",
   "execution_count": 20,
   "metadata": {},
   "outputs": [
    {
     "data": {
      "text/plain": [
       "POWER  CMC \n",
       "-1.0   0.0       1\n",
       "       4.0       1\n",
       "       5.0       1\n",
       " 0.0   0.0      86\n",
       "       1.0     193\n",
       "              ... \n",
       " 15.0  11.0      1\n",
       "       15.0      7\n",
       " 16.0  10.0      1\n",
       " 20.0  0.0       4\n",
       " 99.0  15.0      1\n",
       "Length: 137, dtype: int64"
      ]
     },
     "execution_count": 20,
     "metadata": {},
     "output_type": "execute_result"
    }
   ],
   "source": [
    "df.groupby(['POWER', 'CMC']).size()"
   ]
  },
  {
   "cell_type": "markdown",
   "metadata": {},
   "source": [
    "# foil ratio scatter plot"
   ]
  },
  {
   "cell_type": "code",
   "execution_count": 21,
   "metadata": {},
   "outputs": [],
   "source": [
    "df = pd.read_sql_query(\"select * from prices\",conn)"
   ]
  },
  {
   "cell_type": "code",
   "execution_count": 22,
   "metadata": {},
   "outputs": [
    {
     "data": {
      "text/html": [
       "<div>\n",
       "<style scoped>\n",
       "    .dataframe tbody tr th:only-of-type {\n",
       "        vertical-align: middle;\n",
       "    }\n",
       "\n",
       "    .dataframe tbody tr th {\n",
       "        vertical-align: top;\n",
       "    }\n",
       "\n",
       "    .dataframe thead th {\n",
       "        text-align: right;\n",
       "    }\n",
       "</style>\n",
       "<table border=\"1\" class=\"dataframe\">\n",
       "  <thead>\n",
       "    <tr style=\"text-align: right;\">\n",
       "      <th></th>\n",
       "      <th>ID</th>\n",
       "      <th>DATETIME</th>\n",
       "      <th>NORMPRICE</th>\n",
       "      <th>FOILPRICE</th>\n",
       "      <th>FOILRATIO</th>\n",
       "    </tr>\n",
       "  </thead>\n",
       "  <tbody>\n",
       "    <tr>\n",
       "      <td>0</td>\n",
       "      <td>2ae1bb79-a931-4d2e-9cc9-a06862dc5cde</td>\n",
       "      <td>2019-07-24 10:15:01</td>\n",
       "      <td>38.88</td>\n",
       "      <td>NaN</td>\n",
       "      <td>NaN</td>\n",
       "    </tr>\n",
       "    <tr>\n",
       "      <td>1</td>\n",
       "      <td>4889a668-0f01-4447-ad2e-91b329258f22</td>\n",
       "      <td>2019-07-24 10:15:01</td>\n",
       "      <td>41.96</td>\n",
       "      <td>NaN</td>\n",
       "      <td>NaN</td>\n",
       "    </tr>\n",
       "    <tr>\n",
       "      <td>2</td>\n",
       "      <td>5b13ba5a-f4b0-420a-9e4f-a65e57721fa4</td>\n",
       "      <td>2019-07-24 10:15:01</td>\n",
       "      <td>41.99</td>\n",
       "      <td>NaN</td>\n",
       "      <td>NaN</td>\n",
       "    </tr>\n",
       "    <tr>\n",
       "      <td>3</td>\n",
       "      <td>37bc0128-a8d0-477c-abcf-2bdc9e38b872</td>\n",
       "      <td>2019-07-24 10:15:01</td>\n",
       "      <td>39.25</td>\n",
       "      <td>NaN</td>\n",
       "      <td>NaN</td>\n",
       "    </tr>\n",
       "    <tr>\n",
       "      <td>4</td>\n",
       "      <td>2c23b39b-a4d6-4f10-8ced-fa4b1ed2cf74</td>\n",
       "      <td>2019-07-24 10:15:01</td>\n",
       "      <td>84.99</td>\n",
       "      <td>NaN</td>\n",
       "      <td>NaN</td>\n",
       "    </tr>\n",
       "  </tbody>\n",
       "</table>\n",
       "</div>"
      ],
      "text/plain": [
       "                                     ID             DATETIME  NORMPRICE  \\\n",
       "0  2ae1bb79-a931-4d2e-9cc9-a06862dc5cde  2019-07-24 10:15:01      38.88   \n",
       "1  4889a668-0f01-4447-ad2e-91b329258f22  2019-07-24 10:15:01      41.96   \n",
       "2  5b13ba5a-f4b0-420a-9e4f-a65e57721fa4  2019-07-24 10:15:01      41.99   \n",
       "3  37bc0128-a8d0-477c-abcf-2bdc9e38b872  2019-07-24 10:15:01      39.25   \n",
       "4  2c23b39b-a4d6-4f10-8ced-fa4b1ed2cf74  2019-07-24 10:15:01      84.99   \n",
       "\n",
       "   FOILPRICE  FOILRATIO  \n",
       "0        NaN        NaN  \n",
       "1        NaN        NaN  \n",
       "2        NaN        NaN  \n",
       "3        NaN        NaN  \n",
       "4        NaN        NaN  "
      ]
     },
     "execution_count": 22,
     "metadata": {},
     "output_type": "execute_result"
    }
   ],
   "source": [
    "df.head()"
   ]
  },
  {
   "cell_type": "code",
   "execution_count": 23,
   "metadata": {
    "scrolled": false
   },
   "outputs": [
    {
     "data": {
      "text/plain": [
       "ID            object\n",
       "DATETIME      object\n",
       "NORMPRICE    float64\n",
       "FOILPRICE    float64\n",
       "FOILRATIO    float64\n",
       "dtype: object"
      ]
     },
     "execution_count": 23,
     "metadata": {},
     "output_type": "execute_result"
    }
   ],
   "source": [
    "df.dtypes"
   ]
  },
  {
   "cell_type": "code",
   "execution_count": 24,
   "metadata": {},
   "outputs": [
    {
     "data": {
      "text/plain": [
       "10891296"
      ]
     },
     "execution_count": 24,
     "metadata": {},
     "output_type": "execute_result"
    }
   ],
   "source": [
    "len(df)"
   ]
  },
  {
   "cell_type": "code",
   "execution_count": 25,
   "metadata": {
    "scrolled": true
   },
   "outputs": [
    {
     "data": {
      "text/html": [
       "<div>\n",
       "<style scoped>\n",
       "    .dataframe tbody tr th:only-of-type {\n",
       "        vertical-align: middle;\n",
       "    }\n",
       "\n",
       "    .dataframe tbody tr th {\n",
       "        vertical-align: top;\n",
       "    }\n",
       "\n",
       "    .dataframe thead th {\n",
       "        text-align: right;\n",
       "    }\n",
       "</style>\n",
       "<table border=\"1\" class=\"dataframe\">\n",
       "  <thead>\n",
       "    <tr style=\"text-align: right;\">\n",
       "      <th></th>\n",
       "      <th>ID</th>\n",
       "      <th>DATETIME</th>\n",
       "      <th>NORMPRICE</th>\n",
       "      <th>FOILPRICE</th>\n",
       "      <th>FOILRATIO</th>\n",
       "    </tr>\n",
       "  </thead>\n",
       "  <tbody>\n",
       "    <tr>\n",
       "      <td>0</td>\n",
       "      <td>2ae1bb79-a931-4d2e-9cc9-a06862dc5cde</td>\n",
       "      <td>2019-07-24 10:15:01</td>\n",
       "      <td>38.88</td>\n",
       "      <td>NaN</td>\n",
       "      <td>NaN</td>\n",
       "    </tr>\n",
       "    <tr>\n",
       "      <td>1</td>\n",
       "      <td>4889a668-0f01-4447-ad2e-91b329258f22</td>\n",
       "      <td>2019-07-24 10:15:01</td>\n",
       "      <td>41.96</td>\n",
       "      <td>NaN</td>\n",
       "      <td>NaN</td>\n",
       "    </tr>\n",
       "    <tr>\n",
       "      <td>2</td>\n",
       "      <td>5b13ba5a-f4b0-420a-9e4f-a65e57721fa4</td>\n",
       "      <td>2019-07-24 10:15:01</td>\n",
       "      <td>41.99</td>\n",
       "      <td>NaN</td>\n",
       "      <td>NaN</td>\n",
       "    </tr>\n",
       "    <tr>\n",
       "      <td>3</td>\n",
       "      <td>37bc0128-a8d0-477c-abcf-2bdc9e38b872</td>\n",
       "      <td>2019-07-24 10:15:01</td>\n",
       "      <td>39.25</td>\n",
       "      <td>NaN</td>\n",
       "      <td>NaN</td>\n",
       "    </tr>\n",
       "    <tr>\n",
       "      <td>4</td>\n",
       "      <td>2c23b39b-a4d6-4f10-8ced-fa4b1ed2cf74</td>\n",
       "      <td>2019-07-24 10:15:01</td>\n",
       "      <td>84.99</td>\n",
       "      <td>NaN</td>\n",
       "      <td>NaN</td>\n",
       "    </tr>\n",
       "  </tbody>\n",
       "</table>\n",
       "</div>"
      ],
      "text/plain": [
       "                                     ID             DATETIME  NORMPRICE  \\\n",
       "0  2ae1bb79-a931-4d2e-9cc9-a06862dc5cde  2019-07-24 10:15:01      38.88   \n",
       "1  4889a668-0f01-4447-ad2e-91b329258f22  2019-07-24 10:15:01      41.96   \n",
       "2  5b13ba5a-f4b0-420a-9e4f-a65e57721fa4  2019-07-24 10:15:01      41.99   \n",
       "3  37bc0128-a8d0-477c-abcf-2bdc9e38b872  2019-07-24 10:15:01      39.25   \n",
       "4  2c23b39b-a4d6-4f10-8ced-fa4b1ed2cf74  2019-07-24 10:15:01      84.99   \n",
       "\n",
       "   FOILPRICE  FOILRATIO  \n",
       "0        NaN        NaN  \n",
       "1        NaN        NaN  \n",
       "2        NaN        NaN  \n",
       "3        NaN        NaN  \n",
       "4        NaN        NaN  "
      ]
     },
     "execution_count": 25,
     "metadata": {},
     "output_type": "execute_result"
    }
   ],
   "source": [
    "#df = df.dropna(subset=['FOILRATIO'],how='all')\n",
    "df.head()"
   ]
  },
  {
   "cell_type": "code",
   "execution_count": 26,
   "metadata": {},
   "outputs": [
    {
     "data": {
      "text/plain": [
       "10891296"
      ]
     },
     "execution_count": 26,
     "metadata": {},
     "output_type": "execute_result"
    }
   ],
   "source": [
    "len(df)"
   ]
  },
  {
   "cell_type": "code",
   "execution_count": 27,
   "metadata": {},
   "outputs": [],
   "source": [
    "df = df[df.ID == 'df70f155-2336-421c-8a9d-69772d2b51a8' ]"
   ]
  },
  {
   "cell_type": "code",
   "execution_count": 28,
   "metadata": {},
   "outputs": [
    {
     "data": {
      "text/html": [
       "<div>\n",
       "<style scoped>\n",
       "    .dataframe tbody tr th:only-of-type {\n",
       "        vertical-align: middle;\n",
       "    }\n",
       "\n",
       "    .dataframe tbody tr th {\n",
       "        vertical-align: top;\n",
       "    }\n",
       "\n",
       "    .dataframe thead th {\n",
       "        text-align: right;\n",
       "    }\n",
       "</style>\n",
       "<table border=\"1\" class=\"dataframe\">\n",
       "  <thead>\n",
       "    <tr style=\"text-align: right;\">\n",
       "      <th></th>\n",
       "      <th>ID</th>\n",
       "      <th>DATETIME</th>\n",
       "      <th>NORMPRICE</th>\n",
       "      <th>FOILPRICE</th>\n",
       "      <th>FOILRATIO</th>\n",
       "    </tr>\n",
       "  </thead>\n",
       "  <tbody>\n",
       "    <tr>\n",
       "      <td>760</td>\n",
       "      <td>df70f155-2336-421c-8a9d-69772d2b51a8</td>\n",
       "      <td>2019-07-24 10:15:08</td>\n",
       "      <td>5.10</td>\n",
       "      <td>19.10</td>\n",
       "      <td>3.745098</td>\n",
       "    </tr>\n",
       "    <tr>\n",
       "      <td>44273</td>\n",
       "      <td>df70f155-2336-421c-8a9d-69772d2b51a8</td>\n",
       "      <td>2019-05-31 19:48:01</td>\n",
       "      <td>11.18</td>\n",
       "      <td>24.55</td>\n",
       "      <td>2.195886</td>\n",
       "    </tr>\n",
       "    <tr>\n",
       "      <td>87775</td>\n",
       "      <td>df70f155-2336-421c-8a9d-69772d2b51a8</td>\n",
       "      <td>2019-06-11 16:34:11</td>\n",
       "      <td>9.88</td>\n",
       "      <td>23.57</td>\n",
       "      <td>2.385628</td>\n",
       "    </tr>\n",
       "    <tr>\n",
       "      <td>131281</td>\n",
       "      <td>df70f155-2336-421c-8a9d-69772d2b51a8</td>\n",
       "      <td>2019-06-17 08:55:28</td>\n",
       "      <td>9.76</td>\n",
       "      <td>21.63</td>\n",
       "      <td>2.216189</td>\n",
       "    </tr>\n",
       "    <tr>\n",
       "      <td>174789</td>\n",
       "      <td>df70f155-2336-421c-8a9d-69772d2b51a8</td>\n",
       "      <td>2019-06-17 14:24:20</td>\n",
       "      <td>9.76</td>\n",
       "      <td>21.63</td>\n",
       "      <td>2.216189</td>\n",
       "    </tr>\n",
       "  </tbody>\n",
       "</table>\n",
       "</div>"
      ],
      "text/plain": [
       "                                          ID             DATETIME  NORMPRICE  \\\n",
       "760     df70f155-2336-421c-8a9d-69772d2b51a8  2019-07-24 10:15:08       5.10   \n",
       "44273   df70f155-2336-421c-8a9d-69772d2b51a8  2019-05-31 19:48:01      11.18   \n",
       "87775   df70f155-2336-421c-8a9d-69772d2b51a8  2019-06-11 16:34:11       9.88   \n",
       "131281  df70f155-2336-421c-8a9d-69772d2b51a8  2019-06-17 08:55:28       9.76   \n",
       "174789  df70f155-2336-421c-8a9d-69772d2b51a8  2019-06-17 14:24:20       9.76   \n",
       "\n",
       "        FOILPRICE  FOILRATIO  \n",
       "760         19.10   3.745098  \n",
       "44273       24.55   2.195886  \n",
       "87775       23.57   2.385628  \n",
       "131281      21.63   2.216189  \n",
       "174789      21.63   2.216189  "
      ]
     },
     "execution_count": 28,
     "metadata": {},
     "output_type": "execute_result"
    }
   ],
   "source": [
    "df.head()"
   ]
  },
  {
   "cell_type": "code",
   "execution_count": 29,
   "metadata": {},
   "outputs": [
    {
     "name": "stdout",
     "output_type": "stream",
     "text": [
      "something went wrong with the price data\n"
     ]
    }
   ],
   "source": [
    "\n",
    "try:\n",
    "    df.plot.scatter('NORMPRICE','DATETIME')\n",
    "except:\n",
    "    print('something went wrong with the price data')\n",
    "    \n",
    "    "
   ]
  },
  {
   "cell_type": "code",
   "execution_count": 30,
   "metadata": {},
   "outputs": [],
   "source": [
    "df.DATETIME = df['DATETIME'].astype('datetime64[ns]')"
   ]
  },
  {
   "cell_type": "code",
   "execution_count": 31,
   "metadata": {},
   "outputs": [
    {
     "data": {
      "text/plain": [
       "ID                   object\n",
       "DATETIME     datetime64[ns]\n",
       "NORMPRICE           float64\n",
       "FOILPRICE           float64\n",
       "FOILRATIO           float64\n",
       "dtype: object"
      ]
     },
     "execution_count": 31,
     "metadata": {},
     "output_type": "execute_result"
    }
   ],
   "source": [
    "df.dtypes"
   ]
  },
  {
   "cell_type": "code",
   "execution_count": 32,
   "metadata": {},
   "outputs": [
    {
     "data": {
      "text/plain": [
       "<matplotlib.axes._subplots.AxesSubplot at 0x2692b9bdd48>"
      ]
     },
     "execution_count": 32,
     "metadata": {},
     "output_type": "execute_result"
    },
    {
     "data": {
      "image/png": "[encoded data removed]",
      "text/plain": [
       "<Figure size 432x288 with 1 Axes>"
      ]
     },
     "metadata": {
      "needs_background": "light"
     },
     "output_type": "display_data"
    },
    {
     "data": {
      "image/png": "[encoded data removed]",
      "text/plain": [
       "<Figure size 432x288 with 1 Axes>"
      ]
     },
     "metadata": {
      "needs_background": "light"
     },
     "output_type": "display_data"
    },
    {
     "data": {
      "image/png": "[encoded data removed]",
      "text/plain": [
       "<Figure size 432x288 with 1 Axes>"
      ]
     },
     "metadata": {
      "needs_background": "light"
     },
     "output_type": "display_data"
    }
   ],
   "source": [
    "df.plot(y='NORMPRICE',x='DATETIME')\n",
    "df.plot(y='FOILPRICE',x='DATETIME')\n",
    "df.plot(y='FOILRATIO',x='DATETIME')\n",
    "\n"
   ]
  },
  {
   "cell_type": "code",
   "execution_count": null,
   "metadata": {},
   "outputs": [],
   "source": []
  },
  {
   "cell_type": "code",
   "execution_count": null,
   "metadata": {},
   "outputs": [],
   "source": []
  },
  {
   "cell_type": "code",
   "execution_count": null,
   "metadata": {},
   "outputs": [],
   "source": []
  }
 ],
 "metadata": {
  "kernelspec": {
   "display_name": "Python 3",
   "language": "python",
   "name": "python3"
  },
  "language_info": {
   "codemirror_mode": {
    "name": "ipython",
    "version": 3
   },
   "file_extension": ".py",
   "mimetype": "text/x-python",
   "name": "python",
   "nbconvert_exporter": "python",
   "pygments_lexer": "ipython3",
   "version": "3.7.4"
  }
 },
 "nbformat": 4,
 "nbformat_minor": 2
}
